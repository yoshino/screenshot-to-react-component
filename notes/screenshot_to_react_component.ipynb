{
 "cells": [
  {
   "cell_type": "markdown",
   "metadata": {},
   "source": [
    "# Screenshot to React Component"
   ]
  },
  {
   "cell_type": "code",
   "execution_count": 3,
   "metadata": {},
   "outputs": [],
   "source": [
    "import openai\n",
    "import os\n",
    "from dotenv import load_dotenv\n",
    "\n",
    "load_dotenv(verbose=True)\n",
    "\n",
    "openai.api_key = os.getenv(\"OPENAI_API_KEY\")\n",
    "client = openai.OpenAI()"
   ]
  },
  {
   "cell_type": "code",
   "execution_count": 2,
   "metadata": {},
   "outputs": [],
   "source": [
    "def chat_completions(messages):\n",
    "    response = client.chat.completions.create(\n",
    "        model=\"gpt-4-vision-preview\",\n",
    "        messages=messages,\n",
    "        max_tokens=4096,\n",
    "        temperature=0\n",
    "    )\n",
    "    return response"
   ]
  },
  {
   "cell_type": "code",
   "execution_count": 4,
   "metadata": {},
   "outputs": [],
   "source": [
    "SYSTEM_PROMPT = \"\"\"\n",
    "You are an expert React developer\n",
    "You take screenshots of a reference react component from the user, and then build single react component\n",
    "using TypeScript.\n",
    "\n",
    "- Make sure the component looks exactly like the screenshot.\n",
    "- Pay close attention to background color, text color, font size, font family, \n",
    "padding, margin, border, etc. Match the colors and sizes exactly.\n",
    "- Use the exact text from the screenshot.\n",
    "- Do not add comments in the code such as \"// Add other navigation links as needed\" and \"// ... other news items ...\" in place of writing the full code. WRITE THE FULL CODE.\n",
    "- Repeat elements as needed to match the screenshot. For example, if there are 15 items, the code should have 15 items. DO NOT LEAVE comments like \"<!-- Repeat for each news item -->\" or bad things will happen.\n",
    "- For images, use placeholder images from https://placehold.co and include a detailed description of the image in the alt text so that an image generation AI can generate the image later.\n",
    "\n",
    "Return only the full code in tsx format.\n",
    "Do not include markdown \"```\" or \"```tsx\" at the start or end.\n",
    "\n",
    "Checkbox component example: \n",
    "\n",
    "type CheckboxProps = {\n",
    "  checked: boolean;\n",
    "  onChange: (checked: boolean) => void;\n",
    "};\n",
    "\n",
    "export const Checkbox: React.FC<CheckboxProps> = ({ checked, onChange }) => {\n",
    "  return (\n",
    "    <input\n",
    "      type=\"checkbox\"\n",
    "      checked={checked}\n",
    "      onChange={(e) => onChange(e.target.checked)}\n",
    "    />\n",
    "  );\n",
    "};\n",
    "\"\"\"\n",
    "\n",
    "USER_PROMPT = \"\"\"\n",
    "Generate code for a component that looks exactly like this.\n",
    "\"\"\"\n"
   ]
  },
  {
   "cell_type": "code",
   "execution_count": 5,
   "metadata": {},
   "outputs": [],
   "source": [
    "def assemble_prompt(base64_image):\n",
    "    return [\n",
    "        {\"role\": \"system\", \"content\": SYSTEM_PROMPT},\n",
    "        {\n",
    "            \"role\": \"user\",\n",
    "            \"content\": [\n",
    "                {\n",
    "                    \"type\": \"image_url\", \n",
    "                    \"image_url\": {\"url\": f\"data:image/jpeg;base64,{base64_image}\"}\n",
    "                },\n",
    "                {\n",
    "                    \"type\": \"text\",\n",
    "                    \"text\": USER_PROMPT,\n",
    "                },\n",
    "            ],\n",
    "        },\n",
    "    ]"
   ]
  },
  {
   "cell_type": "code",
   "execution_count": 6,
   "metadata": {},
   "outputs": [
    {
     "data": {
      "image/png": "[encoded data removed]",
      "text/plain": [
       "<PIL.PngImagePlugin.PngImageFile image mode=RGBA size=609x53>"
      ]
     },
     "execution_count": 6,
     "metadata": {},
     "output_type": "execute_result"
    }
   ],
   "source": [
    "from PIL import Image\n",
    "\n",
    "image_path = \"./data/component_screenshot.png\"\n",
    "Image.open(image_path)"
   ]
  },
  {
   "cell_type": "code",
   "execution_count": 7,
   "metadata": {},
   "outputs": [],
   "source": [
    "import base64\n",
    "\n",
    "def encode_image(image_path):\n",
    "    with open(image_path, \"rb\") as image_file:\n",
    "        return base64.b64encode(image_file.read()).decode(\"utf-8\")"
   ]
  },
  {
   "cell_type": "code",
   "execution_count": 8,
   "metadata": {},
   "outputs": [],
   "source": [
    "base64_image = encode_image(image_path)"
   ]
  },
  {
   "cell_type": "code",
   "execution_count": 9,
   "metadata": {},
   "outputs": [],
   "source": [
    "prompt = assemble_prompt(base64_image)"
   ]
  },
  {
   "cell_type": "code",
   "execution_count": 10,
   "metadata": {},
   "outputs": [
    {
     "name": "stdout",
     "output_type": "stream",
     "text": [
      "ChatCompletion(id='chatcmpl-8M9mTIjuMGABh6ixsxPEQOL4CwRQl', choices=[Choice(finish_reason=None, index=0, message=ChatCompletionMessage(content='import React from \\'react\\';\\n\\ntype SearchBarProps = {\\n  placeholder: string;\\n  onSearch: (value: string) => void;\\n};\\n\\nexport const SearchBar: React.FC<SearchBarProps> = ({ placeholder, onSearch }) => {\\n  const [searchValue, setSearchValue] = React.useState(\\'\\');\\n\\n  const handleSearchChange = (event: React.ChangeEvent<HTMLInputElement>) => {\\n    setSearchValue(event.target.value);\\n  };\\n\\n  const handleSearchSubmit = (event: React.FormEvent<HTMLFormElement>) => {\\n    event.preventDefault();\\n    onSearch(searchValue);\\n  };\\n\\n  return (\\n    <form onSubmit={handleSearchSubmit} style={{ display: \\'flex\\', alignItems: \\'center\\', backgroundColor: \\'#f0f0f0\\', padding: \\'4px 8px\\', borderRadius: \\'4px\\' }}>\\n      <span style={{ marginRight: \\'8px\\', color: \\'#555\\', fontSize: \\'14px\\' }}>すべて</span>\\n      <input\\n        type=\"text\"\\n        value={searchValue}\\n        onChange={handleSearchChange}\\n        placeholder={placeholder}\\n        style={{ flexGrow: 1, border: \\'none\\', padding: \\'8px\\', fontSize: \\'14px\\' }}\\n      />\\n      <button type=\"submit\" style={{ backgroundColor: \\'#febd69\\', border: \\'none\\', padding: \\'8px 16px\\', borderRadius: \\'0 4px 4px 0\\', cursor: \\'pointer\\' }}>\\n        <span style={{ color: \\'#0F1111\\', fontSize: \\'14px\\' }}>🔍</span>\\n      </button>\\n    </form>\\n  );\\n};', role='assistant', function_call=None, tool_calls=None), finish_details={'type': 'stop', 'stop': '<|fim_suffix|>'})], created=1700291505, model='gpt-4-1106-vision-preview', object='chat.completion', system_fingerprint=None, usage=CompletionUsage(completion_tokens=340, prompt_tokens=760, total_tokens=1100))\n"
     ]
    }
   ],
   "source": [
    "response = chat_completions(prompt)\n",
    "print(response)"
   ]
  },
  {
   "cell_type": "code",
   "execution_count": 11,
   "metadata": {},
   "outputs": [],
   "source": [
    "# write to file\n",
    "with open(\"./output/component_screenshot.tsx\", \"w\") as f:\n",
    "    f.write(response.choices[0].message.content)"
   ]
  }
 ],
 "metadata": {
  "kernelspec": {
   "display_name": ".venv",
   "language": "python",
   "name": "python3"
  },
  "language_info": {
   "codemirror_mode": {
    "name": "ipython",
    "version": 3
   },
   "file_extension": ".py",
   "mimetype": "text/x-python",
   "name": "python",
   "nbconvert_exporter": "python",
   "pygments_lexer": "ipython3",
   "version": "3.11.2"
  }
 },
 "nbformat": 4,
 "nbformat_minor": 2
}
